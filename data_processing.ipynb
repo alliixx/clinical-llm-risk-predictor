{
 "cells": [
  {
   "cell_type": "code",
   "execution_count": 20,
   "metadata": {},
   "outputs": [
    {
     "name": "stdout",
     "output_type": "stream",
     "text": [
      "Requirement already satisfied: scikit-learn in ./.conda/lib/python3.11/site-packages (1.6.1)\n",
      "Requirement already satisfied: numpy in ./.conda/lib/python3.11/site-packages (1.26.0)\n",
      "Collecting numpy\n",
      "  Using cached numpy-2.2.5-cp311-cp311-macosx_14_0_arm64.whl.metadata (62 kB)\n",
      "Requirement already satisfied: scipy>=1.6.0 in ./.conda/lib/python3.11/site-packages (from scikit-learn) (1.15.2)\n",
      "Requirement already satisfied: joblib>=1.2.0 in ./.conda/lib/python3.11/site-packages (from scikit-learn) (1.4.2)\n",
      "Requirement already satisfied: threadpoolctl>=3.1.0 in ./.conda/lib/python3.11/site-packages (from scikit-learn) (3.6.0)\n",
      "Using cached numpy-2.2.5-cp311-cp311-macosx_14_0_arm64.whl (5.4 MB)\n",
      "Installing collected packages: numpy\n",
      "  Attempting uninstall: numpy\n",
      "    Found existing installation: numpy 1.26.0\n",
      "    Uninstalling numpy-1.26.0:\n",
      "      Successfully uninstalled numpy-1.26.0\n",
      "Successfully installed numpy-2.2.5\n",
      "Note: you may need to restart the kernel to use updated packages.\n"
     ]
    }
   ],
   "source": [
    "pip install --upgrade scikit-learn numpy\n"
   ]
  },
  {
   "cell_type": "code",
   "execution_count": null,
   "metadata": {},
   "outputs": [],
   "source": [
    "import pandas as pd\n",
    "import numpy as np"
   ]
  },
  {
   "cell_type": "code",
   "execution_count": 139,
   "metadata": {},
   "outputs": [],
   "source": [
    "files = [\n",
    "    {'year': 22, 'visit_file': 'h239g.csv', 'people_file': 'h243.csv'},\n",
    "    {'year': '21', 'visit_file': 'h229g.csv', 'people_file': 'h233.csv'},\n",
    "    {'year': '20', 'visit_file': 'h220g.csv', 'people_file': 'h224.csv'},\n",
    "    {'year': '19', 'visit_file': 'h213g.csv', 'people_file': 'h216.csv'},\n",
    "    ]\n",
    "dfs = []"
   ]
  },
  {
   "cell_type": "code",
   "execution_count": 140,
   "metadata": {},
   "outputs": [],
   "source": [
    "def load_data(visit_file, people_file, year, dfs):\n",
    "    rename_map = {\n",
    "        f'OBTC{year}X': 'total_charge',  # Total charge\n",
    "        f'OBSF{year}X': 'out_of_pocket',  # Out-of-pocket\n",
    "        f'OBMR{year}X': 'medicare',  # Medicare\n",
    "        f'OBMD{year}X': 'medicade',  # Medicaid\n",
    "        f'OBPV{year}X': 'priv_insurance',  # Private insurance\n",
    "        f'OBVA{year}X': 'VA_CHAMPVA',  # VA/CHAMPVA\n",
    "        f'OBTR{year}X': 'tricare',  # Tricare\n",
    "        f'OBOF{year}X': 'other_federal', # Other federal\n",
    "        f'OBSL{year}X': 'state_local',  # State/local\n",
    "        f'OBWC{year}X': 'workers_comp',  # Worker’s comp\n",
    "        f'OBOT{year}X': 'other_insurance',  # Other insurance\n",
    "        f'PERWT{year}F': 'person_weight',  # Person weight\n",
    "        f'INSURC{year}': 'insurance'\n",
    "    }\n",
    "\n",
    "    insurance_col = f'INSURC{year}'\n",
    "\n",
    "    df_visits = pd.read_csv(visit_file)\n",
    "    df_people = pd.read_csv(people_file)\n",
    "    df_people = df_people[['DUPERSID', insurance_col]]\n",
    "    df_initial = df_visits.merge(df_people, on='DUPERSID', how='left')\n",
    "    df_curr = df_initial.copy(deep=True)\n",
    "    df_curr.rename(columns=rename_map, inplace=True)\n",
    "    dfs.append(df_curr)"
   ]
  },
  {
   "cell_type": "code",
   "execution_count": 143,
   "metadata": {},
   "outputs": [
    {
     "name": "stdout",
     "output_type": "stream",
     "text": [
      "            DUID  PID    DUPERSID           EVNTIDX  EVENTRN FFEEIDX  PANEL  \\\n",
      "0        2460002  101  2460002101  2460002101008301        8      -1     24   \n",
      "1        2460002  101  2460002101  2460002101009001        9      -1     24   \n",
      "2        2460006  101  2460006101  2460006101009401        7      -1     24   \n",
      "3        2460006  101  2460006101  2460006101010501        8      -1     24   \n",
      "4        2460006  101  2460006101  2460006101010601        8      -1     24   \n",
      "...          ...  ...         ...               ...      ...     ...    ...   \n",
      "1007501  2469688  102  2469688102  2469688102000201        1      -1     24   \n",
      "1007502  2469689  101  2469689101  2469689101000101        1      -1     24   \n",
      "1007503  2469689  101  2469689101  2469689101000301        2      -1     24   \n",
      "1007504  2469689  101  2469689101  2469689101000401        2      -1     24   \n",
      "1007505  2469689  101  2469689101  2469689101000501        2      -1     24   \n",
      "\n",
      "         MPCELIG  MPCDATA  OBDATEYR  ...  insurance  FFBEF21  FFTOT22  \\\n",
      "0              1        1      2022  ...        6.0      NaN      NaN   \n",
      "1              2        2      2022  ...        6.0      NaN      NaN   \n",
      "2              1        2      2022  ...        2.0      NaN      NaN   \n",
      "3              1        2      2022  ...        2.0      NaN      NaN   \n",
      "4              1        2      2022  ...        2.0      NaN      NaN   \n",
      "...          ...      ...       ...  ...        ...      ...      ...   \n",
      "1007501        1        1      2019  ...        NaN      NaN      NaN   \n",
      "1007502        2        2      2019  ...        NaN      NaN      NaN   \n",
      "1007503        1        2      2019  ...        NaN      NaN      NaN   \n",
      "1007504        1        2      2019  ...        NaN      NaN      NaN   \n",
      "1007505        1        2      2019  ...        NaN      NaN      NaN   \n",
      "\n",
      "         OBXP21X  FFBEF20  FFTOT21  OBXP20X  FFBEF19  FFTOT20  OBXP19X  \n",
      "0            NaN      NaN      NaN      NaN      NaN      NaN      NaN  \n",
      "1            NaN      NaN      NaN      NaN      NaN      NaN      NaN  \n",
      "2            NaN      NaN      NaN      NaN      NaN      NaN      NaN  \n",
      "3            NaN      NaN      NaN      NaN      NaN      NaN      NaN  \n",
      "4            NaN      NaN      NaN      NaN      NaN      NaN      NaN  \n",
      "...          ...      ...      ...      ...      ...      ...      ...  \n",
      "1007501      NaN      NaN      NaN      NaN     -1.0     -1.0    91.00  \n",
      "1007502      NaN      NaN      NaN      NaN     -1.0     -1.0   132.00  \n",
      "1007503      NaN      NaN      NaN      NaN     -1.0     -1.0   378.26  \n",
      "1007504      NaN      NaN      NaN      NaN     -1.0     -1.0   378.26  \n",
      "1007505      NaN      NaN      NaN      NaN     -1.0     -1.0   114.30  \n",
      "\n",
      "[1007506 rows x 56 columns]\n"
     ]
    }
   ],
   "source": [
    "for file in files:\n",
    "    load_data(file['visit_file'], file['people_file'], file['year'], dfs)\n",
    "\n",
    "df = pd.concat(dfs, ignore_index=True)\n",
    "print(df)\n",
    "df.to_csv(\"df_all_years.csv\", index=False)"
   ]
  },
  {
   "cell_type": "code",
   "execution_count": 144,
   "metadata": {},
   "outputs": [
    {
     "name": "stderr",
     "output_type": "stream",
     "text": [
      "/var/folders/_t/mfgk4xxn1hb8w2n3w5x65snw0000gp/T/ipykernel_62072/1144292760.py:1: DtypeWarning: Columns (5) have mixed types. Specify dtype option on import or set low_memory=False.\n",
      "  df_full = pd.read_csv(\"df_all_years.csv\")\n"
     ]
    }
   ],
   "source": [
    "df_full = pd.read_csv(\"df_all_years.csv\")"
   ]
  },
  {
   "cell_type": "code",
   "execution_count": 158,
   "metadata": {},
   "outputs": [],
   "source": [
    "df_working = df_full.copy(deep=True)\n",
    "\n",
    "#Replaces lab test code 95 (no test received) with code 2 (no)\n",
    "df_working['LABTEST_M18'] = df['LABTEST_M18'].replace(95, 2.0)\n",
    "df_working['SONOGRAM_M18'] = df['SONOGRAM_M18'].replace(95, 2.0)\n",
    "df_working['XRAYS_M18'] = df['XRAYS_M18'].replace(95, 2.0)\n",
    "df_working['MAMMOG_M18'] = df['MAMMOG_M18'].replace(95, 2.0)\n",
    "df_working['MRI_M18'] = df['MRI_M18'].replace(95, 2.0)\n",
    "df_working['EKG_M18'] = df['EKG_M18'].replace(95, 2.0)\n",
    "df_working['RCVVAC_M18'] = df['RCVVAC_M18'].replace(95, 2.0)\n",
    "\n",
    "#df['LABTEST_M18'].value_counts()"
   ]
  },
  {
   "cell_type": "code",
   "execution_count": 159,
   "metadata": {},
   "outputs": [
    {
     "name": "stdout",
     "output_type": "stream",
     "text": [
      "0          65+ Medicare + Other Public\n",
      "1          65+ Medicare + Other Public\n",
      "2                      <65 Public Only\n",
      "3                      <65 Public Only\n",
      "4                      <65 Public Only\n",
      "                      ...             \n",
      "1007501                            NaN\n",
      "1007502                            NaN\n",
      "1007503                            NaN\n",
      "1007504                            NaN\n",
      "1007505                            NaN\n",
      "Name: insurance, Length: 1007506, dtype: object\n"
     ]
    }
   ],
   "source": [
    "MEPS_NA = [-1, -7, -8, -15]\n",
    "df_working.replace(MEPS_NA, np.nan, inplace=True)\n",
    "\n",
    "insurance_map = {\n",
    "    1.: '<65 Any Private',\n",
    "    2.: '<65 Public Only',\n",
    "    3.: '<65 Uninsured',\n",
    "    4.: '65+ Medicare Only',\n",
    "    5.: '65+ Medicare + Private',\n",
    "    6.: '65+ Medicare + Other Public',\n",
    "    7.: '65+ Uninsured',\n",
    "    8.: '65+ No Medicare but Public/Private'\n",
    "}\n",
    "df_working['insurance']\n",
    "df_working['insurance'] = df_working['insurance'].map(insurance_map)\n",
    "\n",
    "print(df_working['insurance'])"
   ]
  },
  {
   "cell_type": "code",
   "execution_count": 163,
   "metadata": {},
   "outputs": [
    {
     "name": "stdout",
     "output_type": "stream",
     "text": [
      "0          248.00\n",
      "1          338.00\n",
      "2          130.66\n",
      "3          719.61\n",
      "4          205.03\n",
      "            ...  \n",
      "1007501    140.00\n",
      "1007502    132.00\n",
      "1007503    349.83\n",
      "1007504    349.83\n",
      "1007505    218.82\n",
      "Name: COST_COVERED, Length: 1007506, dtype: float64\n"
     ]
    }
   ],
   "source": [
    "cost_columns = [\n",
    "    'total_charge',   # Total charge\n",
    "    'out_of_pocket',   # Out-of-pocket (family)\n",
    "    'medicare',   # Medicare\n",
    "    'medicaid',   # Medicaid\n",
    "    'priv_insurance',   # Private insurance\n",
    "    'VA_CHAMPVA',   # VA/CHAMPVA\n",
    "    'tricare',   # Tricare\n",
    "    'other_federal',   # Other federal\n",
    "    'state_local',   # State/local gov\n",
    "    'workers_comp',   # Worker’s comp\n",
    "    'other_insurance',   # Other insurance\n",
    "]\n",
    "\n",
    "df_working['COST_COVERED'] = df_working['total_charge'] - df_working['out_of_pocket']\n",
    "\n",
    "print(df_working['COST_COVERED'])"
   ]
  },
  {
   "cell_type": "code",
   "execution_count": 165,
   "metadata": {},
   "outputs": [],
   "source": [
    "df_working.to_csv(\"df_working.csv\", index=False)"
   ]
  }
 ],
 "metadata": {
  "kernelspec": {
   "display_name": "Python 3",
   "language": "python",
   "name": "python3"
  },
  "language_info": {
   "codemirror_mode": {
    "name": "ipython",
    "version": 3
   },
   "file_extension": ".py",
   "mimetype": "text/x-python",
   "name": "python",
   "nbconvert_exporter": "python",
   "pygments_lexer": "ipython3",
   "version": "3.11.11"
  }
 },
 "nbformat": 4,
 "nbformat_minor": 2
}
