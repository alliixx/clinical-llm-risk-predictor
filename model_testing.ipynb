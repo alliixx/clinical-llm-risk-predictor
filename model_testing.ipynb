{
 "cells": [
  {
   "cell_type": "code",
   "execution_count": 8,
   "metadata": {},
   "outputs": [
    {
     "name": "stdout",
     "output_type": "stream",
     "text": [
      "Collecting xgboost\n",
      "  Downloading xgboost-3.0.0-py3-none-macosx_12_0_arm64.whl.metadata (2.1 kB)\n",
      "Requirement already satisfied: numpy in /opt/anaconda3/lib/python3.11/site-packages (from xgboost) (1.26.4)\n",
      "Requirement already satisfied: scipy in /opt/anaconda3/lib/python3.11/site-packages (from xgboost) (1.11.4)\n",
      "Downloading xgboost-3.0.0-py3-none-macosx_12_0_arm64.whl (2.0 MB)\n",
      "\u001b[2K   \u001b[90m━━━━━━━━━━━━━━━━━━━━━━━━━━━━━━━━━━━━━━━━\u001b[0m \u001b[32m2.0/2.0 MB\u001b[0m \u001b[31m7.3 MB/s\u001b[0m eta \u001b[36m0:00:00\u001b[0ma \u001b[36m0:00:01\u001b[0m\n",
      "\u001b[?25hInstalling collected packages: xgboost\n",
      "Successfully installed xgboost-3.0.0\n",
      "Note: you may need to restart the kernel to use updated packages.\n"
     ]
    }
   ],
   "source": [
    "pip install xgboost"
   ]
  },
  {
   "cell_type": "code",
   "execution_count": 7,
   "metadata": {},
   "outputs": [],
   "source": [
    "from sklearn.model_selection import train_test_split\n",
    "from sklearn.pipeline import Pipeline\n",
    "from sklearn.compose import ColumnTransformer\n",
    "from sklearn.preprocessing import OneHotEncoder\n",
    "from sklearn.metrics import mean_squared_error, r2_score\n",
    "from sklearn.linear_model import LinearRegression, Ridge, Lasso\n",
    "from sklearn.ensemble import RandomForestRegressor, AdaBoostRegressor\n",
    "from sklearn.tree import DecisionTreeRegressor\n",
    "from sklearn.svm import SVR\n",
    "from sklearn.impute import SimpleImputer\n",
    "from xgboost import XGBRegressor\n",
    "import numpy as np\n",
    "import pandas as pd"
   ]
  },
  {
   "cell_type": "code",
   "execution_count": 4,
   "metadata": {},
   "outputs": [
    {
     "name": "stderr",
     "output_type": "stream",
     "text": [
      "/var/folders/_t/mfgk4xxn1hb8w2n3w5x65snw0000gp/T/ipykernel_16723/908440793.py:1: DtypeWarning: Columns (5,46) have mixed types. Specify dtype option on import or set low_memory=False.\n",
      "  df = pd.read_csv(\"df_working.csv\")\n"
     ]
    }
   ],
   "source": [
    "df = pd.read_csv(\"df_working.csv\")"
   ]
  },
  {
   "cell_type": "code",
   "execution_count": 5,
   "metadata": {},
   "outputs": [],
   "source": [
    "# Models to try\n",
    "models = {\n",
    "    # 'Linear Regression': LinearRegression(),\n",
    "    # 'Ridge Regression': Ridge(),\n",
    "    # 'Lasso Regression': Lasso(),\n",
    "    'Random Forest': RandomForestRegressor(),\n",
    "    # 'Decision Tree': DecisionTreeRegressor(),\n",
    "    # 'AdaBoost': AdaBoostRegressor(),\n",
    "    'XGBoost': XGBRegressor(verbosity=0)\n",
    "    # 'Support Vector': SVR()\n",
    "}"
   ]
  },
  {
   "cell_type": "code",
   "execution_count": 8,
   "metadata": {},
   "outputs": [
    {
     "name": "stdout",
     "output_type": "stream",
     "text": [
      "        VISITTYPE VSTCTGRY DOCATLOC DRSPLTY_M18 MEDPTYPE_M18 SEEDOC_M18  \\\n",
      "0         Missing      1.0  Missing         8.0      Missing        1.0   \n",
      "1         Missing      2.0      2.0     Missing          8.0        2.0   \n",
      "2         Missing      1.0  Missing        14.0      Missing        1.0   \n",
      "3         Missing      2.0  Missing        14.0      Missing        1.0   \n",
      "4         Missing      2.0  Missing        14.0      Missing        1.0   \n",
      "...           ...      ...      ...         ...          ...        ...   \n",
      "1007501   Missing      1.0  Missing         6.0      Missing        1.0   \n",
      "1007502   Missing      1.0      2.0     Missing         11.0        2.0   \n",
      "1007503   Missing      1.0  Missing         8.0      Missing        1.0   \n",
      "1007504   Missing      1.0  Missing         8.0      Missing        1.0   \n",
      "1007505   Missing      5.0  Missing         8.0      Missing        1.0   \n",
      "\n",
      "        SURGPROC MEDPRESC TELEHEALTHFLAG LABTEST_M18 XRAYS_M18 MRI_M18  \\\n",
      "0            2.0      1.0            2.0         1.0       2.0     2.0   \n",
      "1            2.0      2.0            2.0         1.0       2.0     2.0   \n",
      "2            2.0      2.0            2.0         2.0       2.0     2.0   \n",
      "3            2.0  Missing            2.0         2.0       2.0     2.0   \n",
      "4            2.0  Missing            2.0         2.0       2.0     2.0   \n",
      "...          ...      ...            ...         ...       ...     ...   \n",
      "1007501      2.0      2.0        Missing         1.0       2.0     2.0   \n",
      "1007502      2.0      2.0        Missing         1.0       2.0     2.0   \n",
      "1007503      2.0  Missing        Missing         1.0       2.0     2.0   \n",
      "1007504      2.0      1.0        Missing         1.0       2.0     2.0   \n",
      "1007505      2.0      2.0        Missing         2.0       2.0     2.0   \n",
      "\n",
      "        EKG_M18 OBDATEYR OBDATEMM                    insurance  \n",
      "0           2.0     2022      4.0  65+ Medicare + Other Public  \n",
      "1           2.0     2022      9.0  65+ Medicare + Other Public  \n",
      "2           2.0     2022      1.0              <65 Public Only  \n",
      "3           2.0     2022      1.0              <65 Public Only  \n",
      "4           2.0     2022      1.0              <65 Public Only  \n",
      "...         ...      ...      ...                          ...  \n",
      "1007501     2.0     2019      1.0                      Missing  \n",
      "1007502     2.0     2019      1.0                      Missing  \n",
      "1007503     2.0     2019      7.0                      Missing  \n",
      "1007504     2.0     2019      7.0                      Missing  \n",
      "1007505     2.0     2019     10.0                      Missing  \n",
      "\n",
      "[1007506 rows x 16 columns]\n"
     ]
    }
   ],
   "source": [
    "feature_cols = [\n",
    "    'VISITTYPE', 'VSTCTGRY', 'DOCATLOC', 'DRSPLTY_M18',\n",
    "    'MEDPTYPE_M18', 'SEEDOC_M18', 'SURGPROC', 'MEDPRESC', 'TELEHEALTHFLAG',\n",
    "    'LABTEST_M18', 'XRAYS_M18', 'MRI_M18', 'EKG_M18', 'OBDATEYR', 'OBDATEMM', 'insurance'\n",
    "]\n",
    "\n",
    "df[feature_cols] = df[feature_cols].fillna('Missing')\n",
    "df[feature_cols] = df[feature_cols].astype(str)\n",
    "df_model = df[feature_cols + ['total_charge', 'out_of_pocket', 'COST_COVERED']]\n",
    "\n",
    "X = df_model[feature_cols]\n",
    "print(X)\n",
    "\n",
    "targets = {\n",
    "    'Total Cost': df_model['total_charge'],\n",
    "    'Out-of-Pocket': df_model['out_of_pocket'],\n",
    "    'Cost Covered': df_model['COST_COVERED']\n",
    "}\n",
    "\n",
    "categorical_cols = X.select_dtypes(include='object').columns.tolist() + [\n",
    "    'VISITTYPE', 'VSTCTGRY', 'DOCATLOC', 'DRSPLTY_M18',\n",
    "    'MEDPTYPE_M18', 'SEEDOC_M18', 'SURGPROC', 'MEDPRESC', 'TELEHEALTHFLAG',\n",
    "    'LABTEST_M18', 'XRAYS_M18', 'MRI_M18', 'EKG_M18', 'OBDATEYR', 'OBDATEMM'\n",
    "]\n",
    "\n",
    "\n",
    "cat_pipeline = Pipeline(steps=[\n",
    "    ('imputer', SimpleImputer(strategy='constant', fill_value='Missing')),\n",
    "    ('encoder', OneHotEncoder(handle_unknown='ignore'))\n",
    "])\n",
    "\n",
    "preprocessor = ColumnTransformer(\n",
    "    transformers=[\n",
    "        ('cat', cat_pipeline, categorical_cols)\n",
    "    ],\n",
    "    remainder='passthrough'\n",
    ")"
   ]
  },
  {
   "cell_type": "code",
   "execution_count": null,
   "metadata": {},
   "outputs": [
    {
     "name": "stdout",
     "output_type": "stream",
     "text": [
      "\n",
      " Prediction: Total Cost\n"
     ]
    }
   ],
   "source": [
    "for target_name, y in targets.items():\n",
    "    print(f\"\\n Prediction: {target_name}\")\n",
    "\n",
    "    # Combine features and actual target column (y is a Series with the correct column)\n",
    "    df_model = pd.concat([X, y], axis=1)\n",
    "    #df_with_na = df_model[df_model.isna().any(axis=1)]\n",
    "    #print(df_with_na)\n",
    "    #num_na_rows = df_model.isna().any(axis=1).sum()\n",
    "    #print(f\"{num_na_rows} rows contain at least one NA value.\")\n",
    "    df_model = df_model.dropna()\n",
    "\n",
    "\n",
    "\n",
    "    X_clean = df_model[feature_cols]\n",
    "    y_clean = df_model[y.name]  # Get actual column name from Series\n",
    "\n",
    "    X_train, X_test, y_train, y_test = train_test_split(\n",
    "        X_clean, y_clean, test_size=0.2, random_state=42\n",
    "    )\n",
    "\n",
    "    for model_name, model in models.items():\n",
    "        pipe = Pipeline(steps=[\n",
    "            ('preprocessor', preprocessor),\n",
    "            ('model', model)\n",
    "        ])\n",
    "\n",
    "        pipe.fit(X_train, y_train)\n",
    "        y_pred = pipe.predict(X_test)\n",
    "\n",
    "        rmse = np.sqrt(mean_squared_error(y_test, y_pred))\n",
    "        r2 = r2_score(y_test, y_pred)\n",
    "\n",
    "        print(f\"{model_name:20} | RMSE: {rmse:8.2f} | R²: {r2:.4f}\")\n"
   ]
  }
 ],
 "metadata": {
  "kernelspec": {
   "display_name": "base",
   "language": "python",
   "name": "python3"
  },
  "language_info": {
   "codemirror_mode": {
    "name": "ipython",
    "version": 3
   },
   "file_extension": ".py",
   "mimetype": "text/x-python",
   "name": "python",
   "nbconvert_exporter": "python",
   "pygments_lexer": "ipython3",
   "version": "3.11.7"
  }
 },
 "nbformat": 4,
 "nbformat_minor": 2
}
